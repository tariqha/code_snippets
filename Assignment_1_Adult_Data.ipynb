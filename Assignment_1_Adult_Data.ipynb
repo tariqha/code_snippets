{
  "nbformat": 4,
  "nbformat_minor": 0,
  "metadata": {
    "kernelspec": {
      "display_name": "Python 3",
      "language": "python",
      "name": "python3"
    },
    "language_info": {
      "codemirror_mode": {
        "name": "ipython",
        "version": 3
      },
      "file_extension": ".py",
      "mimetype": "text/x-python",
      "name": "python",
      "nbconvert_exporter": "python",
      "pygments_lexer": "ipython3",
      "version": "3.7.4"
    },
    "colab": {
      "name": "Adult_data_set_2.ipynb",
      "provenance": [],
      "include_colab_link": true
    }
  },
  "cells": [
    {
      "cell_type": "markdown",
      "metadata": {
        "id": "view-in-github",
        "colab_type": "text"
      },
      "source": [
        "<a href=\"https://colab.research.google.com/github/tariqha/code_snippets/blob/master/Assignment_1_Adult_Data.ipynb\" target=\"_parent\"><img src=\"https://colab.research.google.com/assets/colab-badge.svg\" alt=\"Open In Colab\"/></a>"
      ]
    },
    {
      "cell_type": "code",
      "metadata": {
        "id": "hf9W0fdLiSIh",
        "colab_type": "code",
        "colab": {}
      },
      "source": [
        "import numpy as np\n",
        "import pandas as pd\n",
        "pd.set_option('display.max.columns', 100)\n",
        "# to draw pictures in jupyter notebook\n",
        "%matplotlib inline \n",
        "import matplotlib.pyplot as plt\n",
        "import seaborn as sns\n",
        "# we don't like warnings\n",
        "# you can comment the following 2 lines if you'd like to\n",
        "import warnings\n",
        "warnings.filterwarnings('ignore')"
      ],
      "execution_count": 0,
      "outputs": []
    },
    {
      "cell_type": "code",
      "metadata": {
        "id": "TSIkg3oviSIl",
        "colab_type": "code",
        "colab": {}
      },
      "source": [
        "df = pd.read_csv('https://raw.githubusercontent.com/Yorko/mlcourse.ai/master/data/adult.data.csv')"
      ],
      "execution_count": 0,
      "outputs": []
    },
    {
      "cell_type": "code",
      "metadata": {
        "id": "dsubgsBliSIo",
        "colab_type": "code",
        "colab": {},
        "outputId": "78b6d5d5-3367-4324-a996-658914b48bc2"
      },
      "source": [
        "df.head()"
      ],
      "execution_count": 0,
      "outputs": [
        {
          "output_type": "execute_result",
          "data": {
            "text/html": [
              "<div>\n",
              "<style scoped>\n",
              "    .dataframe tbody tr th:only-of-type {\n",
              "        vertical-align: middle;\n",
              "    }\n",
              "\n",
              "    .dataframe tbody tr th {\n",
              "        vertical-align: top;\n",
              "    }\n",
              "\n",
              "    .dataframe thead th {\n",
              "        text-align: right;\n",
              "    }\n",
              "</style>\n",
              "<table border=\"1\" class=\"dataframe\">\n",
              "  <thead>\n",
              "    <tr style=\"text-align: right;\">\n",
              "      <th></th>\n",
              "      <th>age</th>\n",
              "      <th>workclass</th>\n",
              "      <th>fnlwgt</th>\n",
              "      <th>education</th>\n",
              "      <th>education-num</th>\n",
              "      <th>marital-status</th>\n",
              "      <th>occupation</th>\n",
              "      <th>relationship</th>\n",
              "      <th>race</th>\n",
              "      <th>sex</th>\n",
              "      <th>capital-gain</th>\n",
              "      <th>capital-loss</th>\n",
              "      <th>hours-per-week</th>\n",
              "      <th>native-country</th>\n",
              "      <th>salary</th>\n",
              "    </tr>\n",
              "  </thead>\n",
              "  <tbody>\n",
              "    <tr>\n",
              "      <td>0</td>\n",
              "      <td>39</td>\n",
              "      <td>State-gov</td>\n",
              "      <td>77516</td>\n",
              "      <td>Bachelors</td>\n",
              "      <td>13</td>\n",
              "      <td>Never-married</td>\n",
              "      <td>Adm-clerical</td>\n",
              "      <td>Not-in-family</td>\n",
              "      <td>White</td>\n",
              "      <td>Male</td>\n",
              "      <td>2174</td>\n",
              "      <td>0</td>\n",
              "      <td>40</td>\n",
              "      <td>United-States</td>\n",
              "      <td>&lt;=50K</td>\n",
              "    </tr>\n",
              "    <tr>\n",
              "      <td>1</td>\n",
              "      <td>50</td>\n",
              "      <td>Self-emp-not-inc</td>\n",
              "      <td>83311</td>\n",
              "      <td>Bachelors</td>\n",
              "      <td>13</td>\n",
              "      <td>Married-civ-spouse</td>\n",
              "      <td>Exec-managerial</td>\n",
              "      <td>Husband</td>\n",
              "      <td>White</td>\n",
              "      <td>Male</td>\n",
              "      <td>0</td>\n",
              "      <td>0</td>\n",
              "      <td>13</td>\n",
              "      <td>United-States</td>\n",
              "      <td>&lt;=50K</td>\n",
              "    </tr>\n",
              "    <tr>\n",
              "      <td>2</td>\n",
              "      <td>38</td>\n",
              "      <td>Private</td>\n",
              "      <td>215646</td>\n",
              "      <td>HS-grad</td>\n",
              "      <td>9</td>\n",
              "      <td>Divorced</td>\n",
              "      <td>Handlers-cleaners</td>\n",
              "      <td>Not-in-family</td>\n",
              "      <td>White</td>\n",
              "      <td>Male</td>\n",
              "      <td>0</td>\n",
              "      <td>0</td>\n",
              "      <td>40</td>\n",
              "      <td>United-States</td>\n",
              "      <td>&lt;=50K</td>\n",
              "    </tr>\n",
              "    <tr>\n",
              "      <td>3</td>\n",
              "      <td>53</td>\n",
              "      <td>Private</td>\n",
              "      <td>234721</td>\n",
              "      <td>11th</td>\n",
              "      <td>7</td>\n",
              "      <td>Married-civ-spouse</td>\n",
              "      <td>Handlers-cleaners</td>\n",
              "      <td>Husband</td>\n",
              "      <td>Black</td>\n",
              "      <td>Male</td>\n",
              "      <td>0</td>\n",
              "      <td>0</td>\n",
              "      <td>40</td>\n",
              "      <td>United-States</td>\n",
              "      <td>&lt;=50K</td>\n",
              "    </tr>\n",
              "    <tr>\n",
              "      <td>4</td>\n",
              "      <td>28</td>\n",
              "      <td>Private</td>\n",
              "      <td>338409</td>\n",
              "      <td>Bachelors</td>\n",
              "      <td>13</td>\n",
              "      <td>Married-civ-spouse</td>\n",
              "      <td>Prof-specialty</td>\n",
              "      <td>Wife</td>\n",
              "      <td>Black</td>\n",
              "      <td>Female</td>\n",
              "      <td>0</td>\n",
              "      <td>0</td>\n",
              "      <td>40</td>\n",
              "      <td>Cuba</td>\n",
              "      <td>&lt;=50K</td>\n",
              "    </tr>\n",
              "  </tbody>\n",
              "</table>\n",
              "</div>"
            ],
            "text/plain": [
              "   age         workclass  fnlwgt  education  education-num  \\\n",
              "0   39         State-gov   77516  Bachelors             13   \n",
              "1   50  Self-emp-not-inc   83311  Bachelors             13   \n",
              "2   38           Private  215646    HS-grad              9   \n",
              "3   53           Private  234721       11th              7   \n",
              "4   28           Private  338409  Bachelors             13   \n",
              "\n",
              "       marital-status         occupation   relationship   race     sex  \\\n",
              "0       Never-married       Adm-clerical  Not-in-family  White    Male   \n",
              "1  Married-civ-spouse    Exec-managerial        Husband  White    Male   \n",
              "2            Divorced  Handlers-cleaners  Not-in-family  White    Male   \n",
              "3  Married-civ-spouse  Handlers-cleaners        Husband  Black    Male   \n",
              "4  Married-civ-spouse     Prof-specialty           Wife  Black  Female   \n",
              "\n",
              "   capital-gain  capital-loss  hours-per-week native-country salary  \n",
              "0          2174             0              40  United-States  <=50K  \n",
              "1             0             0              13  United-States  <=50K  \n",
              "2             0             0              40  United-States  <=50K  \n",
              "3             0             0              40  United-States  <=50K  \n",
              "4             0             0              40           Cuba  <=50K  "
            ]
          },
          "metadata": {
            "tags": []
          },
          "execution_count": 3
        }
      ]
    },
    {
      "cell_type": "code",
      "metadata": {
        "id": "r8vYGRAeiSIs",
        "colab_type": "code",
        "colab": {},
        "outputId": "546c1da9-8092-470f-b2dd-b140ea8597f2"
      },
      "source": [
        "df['sex'].value_counts()"
      ],
      "execution_count": 0,
      "outputs": [
        {
          "output_type": "execute_result",
          "data": {
            "text/plain": [
              "Male      21790\n",
              "Female    10771\n",
              "Name: sex, dtype: int64"
            ]
          },
          "metadata": {
            "tags": []
          },
          "execution_count": 4
        }
      ]
    },
    {
      "cell_type": "code",
      "metadata": {
        "id": "_90r6KI6iSIv",
        "colab_type": "code",
        "colab": {},
        "outputId": "73141a2f-2e27-44c5-8a0e-90afca87a5bc"
      },
      "source": [
        "df['sex'].value_counts(normalize=True)*100"
      ],
      "execution_count": 0,
      "outputs": [
        {
          "output_type": "execute_result",
          "data": {
            "text/plain": [
              "Male      66.920549\n",
              "Female    33.079451\n",
              "Name: sex, dtype: float64"
            ]
          },
          "metadata": {
            "tags": []
          },
          "execution_count": 5
        }
      ]
    },
    {
      "cell_type": "markdown",
      "metadata": {
        "id": "bk_K-EfLiSIx",
        "colab_type": "text"
      },
      "source": [
        "2. What is the average age (age feature) of women?"
      ]
    },
    {
      "cell_type": "code",
      "metadata": {
        "id": "rUV3ZyQ_iSIy",
        "colab_type": "code",
        "colab": {}
      },
      "source": [
        "women = df[df['sex'] == 'Female']"
      ],
      "execution_count": 0,
      "outputs": []
    },
    {
      "cell_type": "code",
      "metadata": {
        "id": "LfyF8mioiSI1",
        "colab_type": "code",
        "colab": {},
        "outputId": "9d007a05-b5d6-48ab-a77d-fd1e2e56511f"
      },
      "source": [
        "women['age'].mean()"
      ],
      "execution_count": 0,
      "outputs": [
        {
          "output_type": "execute_result",
          "data": {
            "text/plain": [
              "36.85823043357163"
            ]
          },
          "metadata": {
            "tags": []
          },
          "execution_count": 7
        }
      ]
    },
    {
      "cell_type": "code",
      "metadata": {
        "id": "kCoYmsKOiSI6",
        "colab_type": "code",
        "colab": {},
        "outputId": "4ac950e7-ac3a-4cf2-a1d1-48ffbbffc40c"
      },
      "source": [
        "df[df['sex'] == 'Female']['age'].mean()"
      ],
      "execution_count": 0,
      "outputs": [
        {
          "output_type": "execute_result",
          "data": {
            "text/plain": [
              "36.85823043357163"
            ]
          },
          "metadata": {
            "tags": []
          },
          "execution_count": 8
        }
      ]
    },
    {
      "cell_type": "markdown",
      "metadata": {
        "id": "k7jYzHD7iSI8",
        "colab_type": "text"
      },
      "source": [
        "3. What is the percentage of German citizens (native-country feature)?"
      ]
    },
    {
      "cell_type": "code",
      "metadata": {
        "id": "zMrashrDiSI9",
        "colab_type": "code",
        "colab": {},
        "outputId": "e8fbb029-4a17-4364-8a57-253ad4b97aa8"
      },
      "source": [
        "float((df['native-country'] == 'Germany').sum())/len(df.index)"
      ],
      "execution_count": 0,
      "outputs": [
        {
          "output_type": "execute_result",
          "data": {
            "text/plain": [
              "0.004207487485028101"
            ]
          },
          "metadata": {
            "tags": []
          },
          "execution_count": 9
        }
      ]
    },
    {
      "cell_type": "code",
      "metadata": {
        "id": "KcMHXg3piSJA",
        "colab_type": "code",
        "colab": {},
        "outputId": "8d2e9dca-e189-45c0-9660-9c3f00c0a843"
      },
      "source": [
        "float((df['native-country'] == 'Germany').sum())/df.shape[0]"
      ],
      "execution_count": 0,
      "outputs": [
        {
          "output_type": "execute_result",
          "data": {
            "text/plain": [
              "0.004207487485028101"
            ]
          },
          "metadata": {
            "tags": []
          },
          "execution_count": 10
        }
      ]
    },
    {
      "cell_type": "code",
      "metadata": {
        "id": "5U3tYij-iSJC",
        "colab_type": "code",
        "colab": {},
        "outputId": "66f56222-736a-4139-d4b3-aa3b795b7f5a"
      },
      "source": [
        "((df['native-country'] == 'Germany').sum())/df.shape[0]"
      ],
      "execution_count": 0,
      "outputs": [
        {
          "output_type": "execute_result",
          "data": {
            "text/plain": [
              "0.004207487485028101"
            ]
          },
          "metadata": {
            "tags": []
          },
          "execution_count": 11
        }
      ]
    },
    {
      "cell_type": "code",
      "metadata": {
        "id": "kIee45-TiSJE",
        "colab_type": "code",
        "colab": {},
        "outputId": "9a665dc4-29e8-4ff0-830e-34f0d8e378ad"
      },
      "source": [
        "(df['native-country'] == 'Germany').sum()/df.shape[0]"
      ],
      "execution_count": 0,
      "outputs": [
        {
          "output_type": "execute_result",
          "data": {
            "text/plain": [
              "0.004207487485028101"
            ]
          },
          "metadata": {
            "tags": []
          },
          "execution_count": 12
        }
      ]
    },
    {
      "cell_type": "markdown",
      "metadata": {
        "id": "tNsWnEf9iSJH",
        "colab_type": "text"
      },
      "source": [
        "4-5. What are mean value and standard deviation of the age of those who recieve more than 50K per year (salary feature) and those who receive less than 50K per year?"
      ]
    },
    {
      "cell_type": "code",
      "metadata": {
        "id": "U7Q6ce2IiSJH",
        "colab_type": "code",
        "colab": {},
        "outputId": "98d2794a-f3ab-4ca2-8fbd-cc9ec877bfe1"
      },
      "source": [
        "df['age'].mean()"
      ],
      "execution_count": 0,
      "outputs": [
        {
          "output_type": "execute_result",
          "data": {
            "text/plain": [
              "38.58164675532078"
            ]
          },
          "metadata": {
            "tags": []
          },
          "execution_count": 13
        }
      ]
    },
    {
      "cell_type": "code",
      "metadata": {
        "id": "KjZKWHbNiSJK",
        "colab_type": "code",
        "colab": {}
      },
      "source": [
        "ages1 = df.loc[df['salary'] == '<=50K','age']\n",
        "ages2 = df.loc[df['salary'] == '>50K','age']"
      ],
      "execution_count": 0,
      "outputs": []
    },
    {
      "cell_type": "code",
      "metadata": {
        "id": "-17in9l6iSJM",
        "colab_type": "code",
        "colab": {},
        "outputId": "0cf8ed9e-ed88-4298-c3fc-2ec238ea3190"
      },
      "source": [
        "print(ages1.mean())\n",
        "print(ages2.mean())"
      ],
      "execution_count": 0,
      "outputs": [
        {
          "output_type": "stream",
          "text": [
            "36.78373786407767\n",
            "44.24984058155847\n"
          ],
          "name": "stdout"
        }
      ]
    },
    {
      "cell_type": "code",
      "metadata": {
        "id": "_pXhpd4AiSJP",
        "colab_type": "code",
        "colab": {},
        "outputId": "2a2cf1fe-b815-47a4-c556-3cd1da4c17e5"
      },
      "source": [
        "df[df['salary'] == '<=50K']['age'].mean()"
      ],
      "execution_count": 0,
      "outputs": [
        {
          "output_type": "execute_result",
          "data": {
            "text/plain": [
              "36.78373786407767"
            ]
          },
          "metadata": {
            "tags": []
          },
          "execution_count": 16
        }
      ]
    },
    {
      "cell_type": "code",
      "metadata": {
        "id": "mXYdHzN_iSJS",
        "colab_type": "code",
        "colab": {}
      },
      "source": [
        "a1 = df.loc[df['salary'] == '<=50K','age']\n"
      ],
      "execution_count": 0,
      "outputs": []
    },
    {
      "cell_type": "code",
      "metadata": {
        "id": "5WLgJ-N0iSJU",
        "colab_type": "code",
        "colab": {}
      },
      "source": [
        "a2 = [df['salary'] == '<=50K','age']"
      ],
      "execution_count": 0,
      "outputs": []
    },
    {
      "cell_type": "code",
      "metadata": {
        "id": "RT094D1QiSJW",
        "colab_type": "code",
        "colab": {},
        "outputId": "bdcff202-ab79-473f-e251-3fe996a36cf0"
      },
      "source": [
        "print(type(a1))\n",
        "print(type(a2))"
      ],
      "execution_count": 0,
      "outputs": [
        {
          "output_type": "stream",
          "text": [
            "<class 'pandas.core.series.Series'>\n",
            "<class 'list'>\n"
          ],
          "name": "stdout"
        }
      ]
    },
    {
      "cell_type": "markdown",
      "metadata": {
        "id": "wStbhr62iSJY",
        "colab_type": "text"
      },
      "source": [
        "6. Is it true that people who receive more than 50k have at least high school education? (education - Bachelors, Prof-school, Assoc-acdm, Assoc-voc, Masters or Doctorate feature)"
      ]
    },
    {
      "cell_type": "code",
      "metadata": {
        "id": "CrXecTU6iSJZ",
        "colab_type": "code",
        "colab": {},
        "outputId": "de4862c6-da1c-41ec-a779-63e99ab6a51e"
      },
      "source": [
        "df.loc[df['salary'] == '>50K','education'].unique()"
      ],
      "execution_count": 0,
      "outputs": [
        {
          "output_type": "execute_result",
          "data": {
            "text/plain": [
              "array(['HS-grad', 'Masters', 'Bachelors', 'Some-college', 'Assoc-voc',\n",
              "       'Doctorate', 'Prof-school', 'Assoc-acdm', '7th-8th', '12th',\n",
              "       '10th', '11th', '9th', '5th-6th', '1st-4th'], dtype=object)"
            ]
          },
          "metadata": {
            "tags": []
          },
          "execution_count": 20
        }
      ]
    },
    {
      "cell_type": "code",
      "metadata": {
        "id": "HX6LZLQSiSJb",
        "colab_type": "code",
        "colab": {},
        "outputId": "7f6910c1-83d6-43e3-b15b-eeaeb7c8d168"
      },
      "source": [
        "df.loc[df['salary'] == '>50K','education'].value_counts()"
      ],
      "execution_count": 0,
      "outputs": [
        {
          "output_type": "execute_result",
          "data": {
            "text/plain": [
              "Bachelors       2221\n",
              "HS-grad         1675\n",
              "Some-college    1387\n",
              "Masters          959\n",
              "Prof-school      423\n",
              "Assoc-voc        361\n",
              "Doctorate        306\n",
              "Assoc-acdm       265\n",
              "10th              62\n",
              "11th              60\n",
              "7th-8th           40\n",
              "12th              33\n",
              "9th               27\n",
              "5th-6th           16\n",
              "1st-4th            6\n",
              "Name: education, dtype: int64"
            ]
          },
          "metadata": {
            "tags": []
          },
          "execution_count": 21
        }
      ]
    },
    {
      "cell_type": "markdown",
      "metadata": {
        "id": "vfIvC-cBiSJe",
        "colab_type": "text"
      },
      "source": [
        "7. Display statistics of age for each race (race feature) and each gender. Use groupby() and describe(). Find the maximum age of men of Amer-Indian-Eskimo race.\n",
        "\n"
      ]
    },
    {
      "cell_type": "code",
      "metadata": {
        "id": "clMBo5rCiSJe",
        "colab_type": "code",
        "colab": {},
        "outputId": "cda2e198-f2fe-4b49-f978-e433f3f39ee1"
      },
      "source": [
        "df.groupby(['race', 'sex']).describe()\n"
      ],
      "execution_count": 0,
      "outputs": [
        {
          "output_type": "execute_result",
          "data": {
            "text/html": [
              "<div>\n",
              "<style scoped>\n",
              "    .dataframe tbody tr th:only-of-type {\n",
              "        vertical-align: middle;\n",
              "    }\n",
              "\n",
              "    .dataframe tbody tr th {\n",
              "        vertical-align: top;\n",
              "    }\n",
              "\n",
              "    .dataframe thead tr th {\n",
              "        text-align: left;\n",
              "    }\n",
              "\n",
              "    .dataframe thead tr:last-of-type th {\n",
              "        text-align: right;\n",
              "    }\n",
              "</style>\n",
              "<table border=\"1\" class=\"dataframe\">\n",
              "  <thead>\n",
              "    <tr>\n",
              "      <th></th>\n",
              "      <th></th>\n",
              "      <th colspan=\"8\" halign=\"left\">age</th>\n",
              "      <th colspan=\"8\" halign=\"left\">fnlwgt</th>\n",
              "      <th colspan=\"8\" halign=\"left\">education-num</th>\n",
              "      <th colspan=\"8\" halign=\"left\">capital-gain</th>\n",
              "      <th colspan=\"8\" halign=\"left\">capital-loss</th>\n",
              "      <th colspan=\"8\" halign=\"left\">hours-per-week</th>\n",
              "    </tr>\n",
              "    <tr>\n",
              "      <th></th>\n",
              "      <th></th>\n",
              "      <th>count</th>\n",
              "      <th>mean</th>\n",
              "      <th>std</th>\n",
              "      <th>min</th>\n",
              "      <th>25%</th>\n",
              "      <th>50%</th>\n",
              "      <th>75%</th>\n",
              "      <th>max</th>\n",
              "      <th>count</th>\n",
              "      <th>mean</th>\n",
              "      <th>std</th>\n",
              "      <th>min</th>\n",
              "      <th>25%</th>\n",
              "      <th>50%</th>\n",
              "      <th>75%</th>\n",
              "      <th>max</th>\n",
              "      <th>count</th>\n",
              "      <th>mean</th>\n",
              "      <th>std</th>\n",
              "      <th>min</th>\n",
              "      <th>25%</th>\n",
              "      <th>50%</th>\n",
              "      <th>75%</th>\n",
              "      <th>max</th>\n",
              "      <th>count</th>\n",
              "      <th>mean</th>\n",
              "      <th>std</th>\n",
              "      <th>min</th>\n",
              "      <th>25%</th>\n",
              "      <th>50%</th>\n",
              "      <th>75%</th>\n",
              "      <th>max</th>\n",
              "      <th>count</th>\n",
              "      <th>mean</th>\n",
              "      <th>std</th>\n",
              "      <th>min</th>\n",
              "      <th>25%</th>\n",
              "      <th>50%</th>\n",
              "      <th>75%</th>\n",
              "      <th>max</th>\n",
              "      <th>count</th>\n",
              "      <th>mean</th>\n",
              "      <th>std</th>\n",
              "      <th>min</th>\n",
              "      <th>25%</th>\n",
              "      <th>50%</th>\n",
              "      <th>75%</th>\n",
              "      <th>max</th>\n",
              "    </tr>\n",
              "    <tr>\n",
              "      <th>race</th>\n",
              "      <th>sex</th>\n",
              "      <th></th>\n",
              "      <th></th>\n",
              "      <th></th>\n",
              "      <th></th>\n",
              "      <th></th>\n",
              "      <th></th>\n",
              "      <th></th>\n",
              "      <th></th>\n",
              "      <th></th>\n",
              "      <th></th>\n",
              "      <th></th>\n",
              "      <th></th>\n",
              "      <th></th>\n",
              "      <th></th>\n",
              "      <th></th>\n",
              "      <th></th>\n",
              "      <th></th>\n",
              "      <th></th>\n",
              "      <th></th>\n",
              "      <th></th>\n",
              "      <th></th>\n",
              "      <th></th>\n",
              "      <th></th>\n",
              "      <th></th>\n",
              "      <th></th>\n",
              "      <th></th>\n",
              "      <th></th>\n",
              "      <th></th>\n",
              "      <th></th>\n",
              "      <th></th>\n",
              "      <th></th>\n",
              "      <th></th>\n",
              "      <th></th>\n",
              "      <th></th>\n",
              "      <th></th>\n",
              "      <th></th>\n",
              "      <th></th>\n",
              "      <th></th>\n",
              "      <th></th>\n",
              "      <th></th>\n",
              "      <th></th>\n",
              "      <th></th>\n",
              "      <th></th>\n",
              "      <th></th>\n",
              "      <th></th>\n",
              "      <th></th>\n",
              "      <th></th>\n",
              "      <th></th>\n",
              "    </tr>\n",
              "  </thead>\n",
              "  <tbody>\n",
              "    <tr>\n",
              "      <td rowspan=\"2\" valign=\"top\">Amer-Indian-Eskimo</td>\n",
              "      <td>Female</td>\n",
              "      <td>119.0</td>\n",
              "      <td>37.117647</td>\n",
              "      <td>13.114991</td>\n",
              "      <td>17.0</td>\n",
              "      <td>27.0</td>\n",
              "      <td>36.0</td>\n",
              "      <td>46.00</td>\n",
              "      <td>80.0</td>\n",
              "      <td>119.0</td>\n",
              "      <td>112950.731092</td>\n",
              "      <td>93207.974077</td>\n",
              "      <td>12285.0</td>\n",
              "      <td>31387.00</td>\n",
              "      <td>87950.0</td>\n",
              "      <td>163027.50</td>\n",
              "      <td>445168.0</td>\n",
              "      <td>119.0</td>\n",
              "      <td>9.697479</td>\n",
              "      <td>2.334540</td>\n",
              "      <td>2.0</td>\n",
              "      <td>9.0</td>\n",
              "      <td>10.0</td>\n",
              "      <td>11.0</td>\n",
              "      <td>16.0</td>\n",
              "      <td>119.0</td>\n",
              "      <td>544.605042</td>\n",
              "      <td>2451.591587</td>\n",
              "      <td>0.0</td>\n",
              "      <td>0.0</td>\n",
              "      <td>0.0</td>\n",
              "      <td>0.0</td>\n",
              "      <td>15024.0</td>\n",
              "      <td>119.0</td>\n",
              "      <td>14.462185</td>\n",
              "      <td>157.763811</td>\n",
              "      <td>0.0</td>\n",
              "      <td>0.0</td>\n",
              "      <td>0.0</td>\n",
              "      <td>0.0</td>\n",
              "      <td>1721.0</td>\n",
              "      <td>119.0</td>\n",
              "      <td>36.579832</td>\n",
              "      <td>11.046509</td>\n",
              "      <td>4.0</td>\n",
              "      <td>35.0</td>\n",
              "      <td>40.0</td>\n",
              "      <td>40.0</td>\n",
              "      <td>84.0</td>\n",
              "    </tr>\n",
              "    <tr>\n",
              "      <td>Male</td>\n",
              "      <td>192.0</td>\n",
              "      <td>37.208333</td>\n",
              "      <td>12.049563</td>\n",
              "      <td>17.0</td>\n",
              "      <td>28.0</td>\n",
              "      <td>35.0</td>\n",
              "      <td>45.00</td>\n",
              "      <td>82.0</td>\n",
              "      <td>192.0</td>\n",
              "      <td>125715.364583</td>\n",
              "      <td>85063.251595</td>\n",
              "      <td>13769.0</td>\n",
              "      <td>48197.75</td>\n",
              "      <td>113091.0</td>\n",
              "      <td>182656.00</td>\n",
              "      <td>356015.0</td>\n",
              "      <td>192.0</td>\n",
              "      <td>9.072917</td>\n",
              "      <td>2.268587</td>\n",
              "      <td>2.0</td>\n",
              "      <td>9.0</td>\n",
              "      <td>9.0</td>\n",
              "      <td>10.0</td>\n",
              "      <td>16.0</td>\n",
              "      <td>192.0</td>\n",
              "      <td>675.260417</td>\n",
              "      <td>2929.745443</td>\n",
              "      <td>0.0</td>\n",
              "      <td>0.0</td>\n",
              "      <td>0.0</td>\n",
              "      <td>0.0</td>\n",
              "      <td>27828.0</td>\n",
              "      <td>192.0</td>\n",
              "      <td>46.395833</td>\n",
              "      <td>286.562584</td>\n",
              "      <td>0.0</td>\n",
              "      <td>0.0</td>\n",
              "      <td>0.0</td>\n",
              "      <td>0.0</td>\n",
              "      <td>1980.0</td>\n",
              "      <td>192.0</td>\n",
              "      <td>42.197917</td>\n",
              "      <td>11.596280</td>\n",
              "      <td>3.0</td>\n",
              "      <td>40.0</td>\n",
              "      <td>40.0</td>\n",
              "      <td>45.0</td>\n",
              "      <td>84.0</td>\n",
              "    </tr>\n",
              "    <tr>\n",
              "      <td rowspan=\"2\" valign=\"top\">Asian-Pac-Islander</td>\n",
              "      <td>Female</td>\n",
              "      <td>346.0</td>\n",
              "      <td>35.089595</td>\n",
              "      <td>12.300845</td>\n",
              "      <td>17.0</td>\n",
              "      <td>25.0</td>\n",
              "      <td>33.0</td>\n",
              "      <td>43.75</td>\n",
              "      <td>75.0</td>\n",
              "      <td>346.0</td>\n",
              "      <td>147452.075145</td>\n",
              "      <td>76401.627757</td>\n",
              "      <td>19914.0</td>\n",
              "      <td>86879.25</td>\n",
              "      <td>131986.0</td>\n",
              "      <td>175705.75</td>\n",
              "      <td>379046.0</td>\n",
              "      <td>346.0</td>\n",
              "      <td>10.390173</td>\n",
              "      <td>2.796647</td>\n",
              "      <td>1.0</td>\n",
              "      <td>9.0</td>\n",
              "      <td>10.0</td>\n",
              "      <td>13.0</td>\n",
              "      <td>15.0</td>\n",
              "      <td>346.0</td>\n",
              "      <td>778.436416</td>\n",
              "      <td>7675.228631</td>\n",
              "      <td>0.0</td>\n",
              "      <td>0.0</td>\n",
              "      <td>0.0</td>\n",
              "      <td>0.0</td>\n",
              "      <td>99999.0</td>\n",
              "      <td>346.0</td>\n",
              "      <td>50.852601</td>\n",
              "      <td>296.529225</td>\n",
              "      <td>0.0</td>\n",
              "      <td>0.0</td>\n",
              "      <td>0.0</td>\n",
              "      <td>0.0</td>\n",
              "      <td>2258.0</td>\n",
              "      <td>346.0</td>\n",
              "      <td>37.439306</td>\n",
              "      <td>12.479459</td>\n",
              "      <td>1.0</td>\n",
              "      <td>35.0</td>\n",
              "      <td>40.0</td>\n",
              "      <td>40.0</td>\n",
              "      <td>99.0</td>\n",
              "    </tr>\n",
              "    <tr>\n",
              "      <td>Male</td>\n",
              "      <td>693.0</td>\n",
              "      <td>39.073593</td>\n",
              "      <td>12.883944</td>\n",
              "      <td>18.0</td>\n",
              "      <td>29.0</td>\n",
              "      <td>37.0</td>\n",
              "      <td>46.00</td>\n",
              "      <td>90.0</td>\n",
              "      <td>693.0</td>\n",
              "      <td>166175.865801</td>\n",
              "      <td>88552.952600</td>\n",
              "      <td>14878.0</td>\n",
              "      <td>98350.00</td>\n",
              "      <td>147719.0</td>\n",
              "      <td>200117.00</td>\n",
              "      <td>506329.0</td>\n",
              "      <td>693.0</td>\n",
              "      <td>11.245310</td>\n",
              "      <td>2.777463</td>\n",
              "      <td>1.0</td>\n",
              "      <td>9.0</td>\n",
              "      <td>11.0</td>\n",
              "      <td>13.0</td>\n",
              "      <td>16.0</td>\n",
              "      <td>693.0</td>\n",
              "      <td>1827.813853</td>\n",
              "      <td>10947.525528</td>\n",
              "      <td>0.0</td>\n",
              "      <td>0.0</td>\n",
              "      <td>0.0</td>\n",
              "      <td>0.0</td>\n",
              "      <td>99999.0</td>\n",
              "      <td>693.0</td>\n",
              "      <td>120.373737</td>\n",
              "      <td>472.917697</td>\n",
              "      <td>0.0</td>\n",
              "      <td>0.0</td>\n",
              "      <td>0.0</td>\n",
              "      <td>0.0</td>\n",
              "      <td>2457.0</td>\n",
              "      <td>693.0</td>\n",
              "      <td>41.468975</td>\n",
              "      <td>12.387563</td>\n",
              "      <td>1.0</td>\n",
              "      <td>40.0</td>\n",
              "      <td>40.0</td>\n",
              "      <td>45.0</td>\n",
              "      <td>99.0</td>\n",
              "    </tr>\n",
              "    <tr>\n",
              "      <td rowspan=\"2\" valign=\"top\">Black</td>\n",
              "      <td>Female</td>\n",
              "      <td>1555.0</td>\n",
              "      <td>37.854019</td>\n",
              "      <td>12.637197</td>\n",
              "      <td>17.0</td>\n",
              "      <td>28.0</td>\n",
              "      <td>37.0</td>\n",
              "      <td>46.00</td>\n",
              "      <td>90.0</td>\n",
              "      <td>1555.0</td>\n",
              "      <td>212971.387781</td>\n",
              "      <td>109971.263983</td>\n",
              "      <td>19752.0</td>\n",
              "      <td>142666.50</td>\n",
              "      <td>193553.0</td>\n",
              "      <td>253759.00</td>\n",
              "      <td>930948.0</td>\n",
              "      <td>1555.0</td>\n",
              "      <td>9.549839</td>\n",
              "      <td>2.207815</td>\n",
              "      <td>1.0</td>\n",
              "      <td>9.0</td>\n",
              "      <td>9.0</td>\n",
              "      <td>10.0</td>\n",
              "      <td>16.0</td>\n",
              "      <td>1555.0</td>\n",
              "      <td>516.593569</td>\n",
              "      <td>5312.749129</td>\n",
              "      <td>0.0</td>\n",
              "      <td>0.0</td>\n",
              "      <td>0.0</td>\n",
              "      <td>0.0</td>\n",
              "      <td>99999.0</td>\n",
              "      <td>1555.0</td>\n",
              "      <td>45.450804</td>\n",
              "      <td>299.099591</td>\n",
              "      <td>0.0</td>\n",
              "      <td>0.0</td>\n",
              "      <td>0.0</td>\n",
              "      <td>0.0</td>\n",
              "      <td>4356.0</td>\n",
              "      <td>1555.0</td>\n",
              "      <td>36.834084</td>\n",
              "      <td>9.419960</td>\n",
              "      <td>2.0</td>\n",
              "      <td>35.0</td>\n",
              "      <td>40.0</td>\n",
              "      <td>40.0</td>\n",
              "      <td>99.0</td>\n",
              "    </tr>\n",
              "    <tr>\n",
              "      <td>Male</td>\n",
              "      <td>1569.0</td>\n",
              "      <td>37.682600</td>\n",
              "      <td>12.882612</td>\n",
              "      <td>17.0</td>\n",
              "      <td>27.0</td>\n",
              "      <td>36.0</td>\n",
              "      <td>46.00</td>\n",
              "      <td>90.0</td>\n",
              "      <td>1569.0</td>\n",
              "      <td>242920.644997</td>\n",
              "      <td>134145.970948</td>\n",
              "      <td>21856.0</td>\n",
              "      <td>156410.00</td>\n",
              "      <td>221196.0</td>\n",
              "      <td>298601.00</td>\n",
              "      <td>1268339.0</td>\n",
              "      <td>1569.0</td>\n",
              "      <td>9.423199</td>\n",
              "      <td>2.382841</td>\n",
              "      <td>1.0</td>\n",
              "      <td>9.0</td>\n",
              "      <td>9.0</td>\n",
              "      <td>10.0</td>\n",
              "      <td>16.0</td>\n",
              "      <td>1569.0</td>\n",
              "      <td>702.454430</td>\n",
              "      <td>4962.113183</td>\n",
              "      <td>0.0</td>\n",
              "      <td>0.0</td>\n",
              "      <td>0.0</td>\n",
              "      <td>0.0</td>\n",
              "      <td>99999.0</td>\n",
              "      <td>1569.0</td>\n",
              "      <td>75.186106</td>\n",
              "      <td>370.976546</td>\n",
              "      <td>0.0</td>\n",
              "      <td>0.0</td>\n",
              "      <td>0.0</td>\n",
              "      <td>0.0</td>\n",
              "      <td>2824.0</td>\n",
              "      <td>1569.0</td>\n",
              "      <td>39.997451</td>\n",
              "      <td>10.909413</td>\n",
              "      <td>1.0</td>\n",
              "      <td>40.0</td>\n",
              "      <td>40.0</td>\n",
              "      <td>40.0</td>\n",
              "      <td>99.0</td>\n",
              "    </tr>\n",
              "    <tr>\n",
              "      <td rowspan=\"2\" valign=\"top\">Other</td>\n",
              "      <td>Female</td>\n",
              "      <td>109.0</td>\n",
              "      <td>31.678899</td>\n",
              "      <td>11.631599</td>\n",
              "      <td>17.0</td>\n",
              "      <td>23.0</td>\n",
              "      <td>29.0</td>\n",
              "      <td>39.00</td>\n",
              "      <td>74.0</td>\n",
              "      <td>109.0</td>\n",
              "      <td>172519.642202</td>\n",
              "      <td>77766.666801</td>\n",
              "      <td>24562.0</td>\n",
              "      <td>119890.00</td>\n",
              "      <td>171199.0</td>\n",
              "      <td>219441.00</td>\n",
              "      <td>388741.0</td>\n",
              "      <td>109.0</td>\n",
              "      <td>8.899083</td>\n",
              "      <td>3.027482</td>\n",
              "      <td>2.0</td>\n",
              "      <td>7.0</td>\n",
              "      <td>9.0</td>\n",
              "      <td>10.0</td>\n",
              "      <td>14.0</td>\n",
              "      <td>109.0</td>\n",
              "      <td>254.669725</td>\n",
              "      <td>1317.326460</td>\n",
              "      <td>0.0</td>\n",
              "      <td>0.0</td>\n",
              "      <td>0.0</td>\n",
              "      <td>0.0</td>\n",
              "      <td>7688.0</td>\n",
              "      <td>109.0</td>\n",
              "      <td>36.284404</td>\n",
              "      <td>231.796929</td>\n",
              "      <td>0.0</td>\n",
              "      <td>0.0</td>\n",
              "      <td>0.0</td>\n",
              "      <td>0.0</td>\n",
              "      <td>1740.0</td>\n",
              "      <td>109.0</td>\n",
              "      <td>35.926606</td>\n",
              "      <td>10.300761</td>\n",
              "      <td>6.0</td>\n",
              "      <td>30.0</td>\n",
              "      <td>40.0</td>\n",
              "      <td>40.0</td>\n",
              "      <td>65.0</td>\n",
              "    </tr>\n",
              "    <tr>\n",
              "      <td>Male</td>\n",
              "      <td>162.0</td>\n",
              "      <td>34.654321</td>\n",
              "      <td>11.355531</td>\n",
              "      <td>17.0</td>\n",
              "      <td>26.0</td>\n",
              "      <td>32.0</td>\n",
              "      <td>42.00</td>\n",
              "      <td>77.0</td>\n",
              "      <td>162.0</td>\n",
              "      <td>213679.104938</td>\n",
              "      <td>92187.362738</td>\n",
              "      <td>25610.0</td>\n",
              "      <td>150726.75</td>\n",
              "      <td>208516.5</td>\n",
              "      <td>253334.75</td>\n",
              "      <td>481175.0</td>\n",
              "      <td>162.0</td>\n",
              "      <td>8.802469</td>\n",
              "      <td>3.361897</td>\n",
              "      <td>1.0</td>\n",
              "      <td>8.0</td>\n",
              "      <td>9.0</td>\n",
              "      <td>10.0</td>\n",
              "      <td>16.0</td>\n",
              "      <td>162.0</td>\n",
              "      <td>1392.185185</td>\n",
              "      <td>11093.711595</td>\n",
              "      <td>0.0</td>\n",
              "      <td>0.0</td>\n",
              "      <td>0.0</td>\n",
              "      <td>0.0</td>\n",
              "      <td>99999.0</td>\n",
              "      <td>162.0</td>\n",
              "      <td>77.746914</td>\n",
              "      <td>370.986720</td>\n",
              "      <td>0.0</td>\n",
              "      <td>0.0</td>\n",
              "      <td>0.0</td>\n",
              "      <td>0.0</td>\n",
              "      <td>2179.0</td>\n",
              "      <td>162.0</td>\n",
              "      <td>41.851852</td>\n",
              "      <td>11.084779</td>\n",
              "      <td>5.0</td>\n",
              "      <td>40.0</td>\n",
              "      <td>40.0</td>\n",
              "      <td>40.0</td>\n",
              "      <td>98.0</td>\n",
              "    </tr>\n",
              "    <tr>\n",
              "      <td rowspan=\"2\" valign=\"top\">White</td>\n",
              "      <td>Female</td>\n",
              "      <td>8642.0</td>\n",
              "      <td>36.811618</td>\n",
              "      <td>14.329093</td>\n",
              "      <td>17.0</td>\n",
              "      <td>25.0</td>\n",
              "      <td>35.0</td>\n",
              "      <td>46.00</td>\n",
              "      <td>90.0</td>\n",
              "      <td>8642.0</td>\n",
              "      <td>183549.966906</td>\n",
              "      <td>101710.294874</td>\n",
              "      <td>19395.0</td>\n",
              "      <td>115914.75</td>\n",
              "      <td>175810.5</td>\n",
              "      <td>224836.50</td>\n",
              "      <td>1484705.0</td>\n",
              "      <td>8642.0</td>\n",
              "      <td>10.127980</td>\n",
              "      <td>2.368115</td>\n",
              "      <td>1.0</td>\n",
              "      <td>9.0</td>\n",
              "      <td>10.0</td>\n",
              "      <td>12.0</td>\n",
              "      <td>16.0</td>\n",
              "      <td>8642.0</td>\n",
              "      <td>573.610391</td>\n",
              "      <td>4763.131649</td>\n",
              "      <td>0.0</td>\n",
              "      <td>0.0</td>\n",
              "      <td>0.0</td>\n",
              "      <td>0.0</td>\n",
              "      <td>99999.0</td>\n",
              "      <td>8642.0</td>\n",
              "      <td>65.390535</td>\n",
              "      <td>352.330817</td>\n",
              "      <td>0.0</td>\n",
              "      <td>0.0</td>\n",
              "      <td>0.0</td>\n",
              "      <td>0.0</td>\n",
              "      <td>4356.0</td>\n",
              "      <td>8642.0</td>\n",
              "      <td>36.296691</td>\n",
              "      <td>12.190951</td>\n",
              "      <td>1.0</td>\n",
              "      <td>30.0</td>\n",
              "      <td>40.0</td>\n",
              "      <td>40.0</td>\n",
              "      <td>99.0</td>\n",
              "    </tr>\n",
              "    <tr>\n",
              "      <td>Male</td>\n",
              "      <td>19174.0</td>\n",
              "      <td>39.652498</td>\n",
              "      <td>13.436029</td>\n",
              "      <td>17.0</td>\n",
              "      <td>29.0</td>\n",
              "      <td>38.0</td>\n",
              "      <td>49.00</td>\n",
              "      <td>90.0</td>\n",
              "      <td>19174.0</td>\n",
              "      <td>188987.386148</td>\n",
              "      <td>103714.598850</td>\n",
              "      <td>18827.0</td>\n",
              "      <td>117381.00</td>\n",
              "      <td>178662.5</td>\n",
              "      <td>236858.75</td>\n",
              "      <td>1455435.0</td>\n",
              "      <td>19174.0</td>\n",
              "      <td>10.138521</td>\n",
              "      <td>2.656464</td>\n",
              "      <td>1.0</td>\n",
              "      <td>9.0</td>\n",
              "      <td>10.0</td>\n",
              "      <td>13.0</td>\n",
              "      <td>16.0</td>\n",
              "      <td>19174.0</td>\n",
              "      <td>1368.674455</td>\n",
              "      <td>8442.830669</td>\n",
              "      <td>0.0</td>\n",
              "      <td>0.0</td>\n",
              "      <td>0.0</td>\n",
              "      <td>0.0</td>\n",
              "      <td>99999.0</td>\n",
              "      <td>19174.0</td>\n",
              "      <td>102.261343</td>\n",
              "      <td>434.156936</td>\n",
              "      <td>0.0</td>\n",
              "      <td>0.0</td>\n",
              "      <td>0.0</td>\n",
              "      <td>0.0</td>\n",
              "      <td>3770.0</td>\n",
              "      <td>19174.0</td>\n",
              "      <td>42.668822</td>\n",
              "      <td>12.194633</td>\n",
              "      <td>1.0</td>\n",
              "      <td>40.0</td>\n",
              "      <td>40.0</td>\n",
              "      <td>50.0</td>\n",
              "      <td>99.0</td>\n",
              "    </tr>\n",
              "  </tbody>\n",
              "</table>\n",
              "</div>"
            ],
            "text/plain": [
              "                               age                                          \\\n",
              "                             count       mean        std   min   25%   50%   \n",
              "race               sex                                                       \n",
              "Amer-Indian-Eskimo Female    119.0  37.117647  13.114991  17.0  27.0  36.0   \n",
              "                   Male      192.0  37.208333  12.049563  17.0  28.0  35.0   \n",
              "Asian-Pac-Islander Female    346.0  35.089595  12.300845  17.0  25.0  33.0   \n",
              "                   Male      693.0  39.073593  12.883944  18.0  29.0  37.0   \n",
              "Black              Female   1555.0  37.854019  12.637197  17.0  28.0  37.0   \n",
              "                   Male     1569.0  37.682600  12.882612  17.0  27.0  36.0   \n",
              "Other              Female    109.0  31.678899  11.631599  17.0  23.0  29.0   \n",
              "                   Male      162.0  34.654321  11.355531  17.0  26.0  32.0   \n",
              "White              Female   8642.0  36.811618  14.329093  17.0  25.0  35.0   \n",
              "                   Male    19174.0  39.652498  13.436029  17.0  29.0  38.0   \n",
              "\n",
              "                                         fnlwgt                                \\\n",
              "                             75%   max    count           mean            std   \n",
              "race               sex                                                          \n",
              "Amer-Indian-Eskimo Female  46.00  80.0    119.0  112950.731092   93207.974077   \n",
              "                   Male    45.00  82.0    192.0  125715.364583   85063.251595   \n",
              "Asian-Pac-Islander Female  43.75  75.0    346.0  147452.075145   76401.627757   \n",
              "                   Male    46.00  90.0    693.0  166175.865801   88552.952600   \n",
              "Black              Female  46.00  90.0   1555.0  212971.387781  109971.263983   \n",
              "                   Male    46.00  90.0   1569.0  242920.644997  134145.970948   \n",
              "Other              Female  39.00  74.0    109.0  172519.642202   77766.666801   \n",
              "                   Male    42.00  77.0    162.0  213679.104938   92187.362738   \n",
              "White              Female  46.00  90.0   8642.0  183549.966906  101710.294874   \n",
              "                   Male    49.00  90.0  19174.0  188987.386148  103714.598850   \n",
              "\n",
              "                                                                               \\\n",
              "                               min        25%       50%        75%        max   \n",
              "race               sex                                                          \n",
              "Amer-Indian-Eskimo Female  12285.0   31387.00   87950.0  163027.50   445168.0   \n",
              "                   Male    13769.0   48197.75  113091.0  182656.00   356015.0   \n",
              "Asian-Pac-Islander Female  19914.0   86879.25  131986.0  175705.75   379046.0   \n",
              "                   Male    14878.0   98350.00  147719.0  200117.00   506329.0   \n",
              "Black              Female  19752.0  142666.50  193553.0  253759.00   930948.0   \n",
              "                   Male    21856.0  156410.00  221196.0  298601.00  1268339.0   \n",
              "Other              Female  24562.0  119890.00  171199.0  219441.00   388741.0   \n",
              "                   Male    25610.0  150726.75  208516.5  253334.75   481175.0   \n",
              "White              Female  19395.0  115914.75  175810.5  224836.50  1484705.0   \n",
              "                   Male    18827.0  117381.00  178662.5  236858.75  1455435.0   \n",
              "\n",
              "                          education-num                                       \\\n",
              "                                  count       mean       std  min  25%   50%   \n",
              "race               sex                                                         \n",
              "Amer-Indian-Eskimo Female         119.0   9.697479  2.334540  2.0  9.0  10.0   \n",
              "                   Male           192.0   9.072917  2.268587  2.0  9.0   9.0   \n",
              "Asian-Pac-Islander Female         346.0  10.390173  2.796647  1.0  9.0  10.0   \n",
              "                   Male           693.0  11.245310  2.777463  1.0  9.0  11.0   \n",
              "Black              Female        1555.0   9.549839  2.207815  1.0  9.0   9.0   \n",
              "                   Male          1569.0   9.423199  2.382841  1.0  9.0   9.0   \n",
              "Other              Female         109.0   8.899083  3.027482  2.0  7.0   9.0   \n",
              "                   Male           162.0   8.802469  3.361897  1.0  8.0   9.0   \n",
              "White              Female        8642.0  10.127980  2.368115  1.0  9.0  10.0   \n",
              "                   Male         19174.0  10.138521  2.656464  1.0  9.0  10.0   \n",
              "\n",
              "                                      capital-gain                             \\\n",
              "                            75%   max        count         mean           std   \n",
              "race               sex                                                          \n",
              "Amer-Indian-Eskimo Female  11.0  16.0        119.0   544.605042   2451.591587   \n",
              "                   Male    10.0  16.0        192.0   675.260417   2929.745443   \n",
              "Asian-Pac-Islander Female  13.0  15.0        346.0   778.436416   7675.228631   \n",
              "                   Male    13.0  16.0        693.0  1827.813853  10947.525528   \n",
              "Black              Female  10.0  16.0       1555.0   516.593569   5312.749129   \n",
              "                   Male    10.0  16.0       1569.0   702.454430   4962.113183   \n",
              "Other              Female  10.0  14.0        109.0   254.669725   1317.326460   \n",
              "                   Male    10.0  16.0        162.0  1392.185185  11093.711595   \n",
              "White              Female  12.0  16.0       8642.0   573.610391   4763.131649   \n",
              "                   Male    13.0  16.0      19174.0  1368.674455   8442.830669   \n",
              "\n",
              "                                                       capital-loss  \\\n",
              "                           min  25%  50%  75%      max        count   \n",
              "race               sex                                                \n",
              "Amer-Indian-Eskimo Female  0.0  0.0  0.0  0.0  15024.0        119.0   \n",
              "                   Male    0.0  0.0  0.0  0.0  27828.0        192.0   \n",
              "Asian-Pac-Islander Female  0.0  0.0  0.0  0.0  99999.0        346.0   \n",
              "                   Male    0.0  0.0  0.0  0.0  99999.0        693.0   \n",
              "Black              Female  0.0  0.0  0.0  0.0  99999.0       1555.0   \n",
              "                   Male    0.0  0.0  0.0  0.0  99999.0       1569.0   \n",
              "Other              Female  0.0  0.0  0.0  0.0   7688.0        109.0   \n",
              "                   Male    0.0  0.0  0.0  0.0  99999.0        162.0   \n",
              "White              Female  0.0  0.0  0.0  0.0  99999.0       8642.0   \n",
              "                   Male    0.0  0.0  0.0  0.0  99999.0      19174.0   \n",
              "\n",
              "                                                                               \\\n",
              "                                 mean         std  min  25%  50%  75%     max   \n",
              "race               sex                                                          \n",
              "Amer-Indian-Eskimo Female   14.462185  157.763811  0.0  0.0  0.0  0.0  1721.0   \n",
              "                   Male     46.395833  286.562584  0.0  0.0  0.0  0.0  1980.0   \n",
              "Asian-Pac-Islander Female   50.852601  296.529225  0.0  0.0  0.0  0.0  2258.0   \n",
              "                   Male    120.373737  472.917697  0.0  0.0  0.0  0.0  2457.0   \n",
              "Black              Female   45.450804  299.099591  0.0  0.0  0.0  0.0  4356.0   \n",
              "                   Male     75.186106  370.976546  0.0  0.0  0.0  0.0  2824.0   \n",
              "Other              Female   36.284404  231.796929  0.0  0.0  0.0  0.0  1740.0   \n",
              "                   Male     77.746914  370.986720  0.0  0.0  0.0  0.0  2179.0   \n",
              "White              Female   65.390535  352.330817  0.0  0.0  0.0  0.0  4356.0   \n",
              "                   Male    102.261343  434.156936  0.0  0.0  0.0  0.0  3770.0   \n",
              "\n",
              "                          hours-per-week                                   \\\n",
              "                                   count       mean        std  min   25%   \n",
              "race               sex                                                      \n",
              "Amer-Indian-Eskimo Female          119.0  36.579832  11.046509  4.0  35.0   \n",
              "                   Male            192.0  42.197917  11.596280  3.0  40.0   \n",
              "Asian-Pac-Islander Female          346.0  37.439306  12.479459  1.0  35.0   \n",
              "                   Male            693.0  41.468975  12.387563  1.0  40.0   \n",
              "Black              Female         1555.0  36.834084   9.419960  2.0  35.0   \n",
              "                   Male           1569.0  39.997451  10.909413  1.0  40.0   \n",
              "Other              Female          109.0  35.926606  10.300761  6.0  30.0   \n",
              "                   Male            162.0  41.851852  11.084779  5.0  40.0   \n",
              "White              Female         8642.0  36.296691  12.190951  1.0  30.0   \n",
              "                   Male          19174.0  42.668822  12.194633  1.0  40.0   \n",
              "\n",
              "                                             \n",
              "                            50%   75%   max  \n",
              "race               sex                       \n",
              "Amer-Indian-Eskimo Female  40.0  40.0  84.0  \n",
              "                   Male    40.0  45.0  84.0  \n",
              "Asian-Pac-Islander Female  40.0  40.0  99.0  \n",
              "                   Male    40.0  45.0  99.0  \n",
              "Black              Female  40.0  40.0  99.0  \n",
              "                   Male    40.0  40.0  99.0  \n",
              "Other              Female  40.0  40.0  65.0  \n",
              "                   Male    40.0  40.0  98.0  \n",
              "White              Female  40.0  40.0  99.0  \n",
              "                   Male    40.0  50.0  99.0  "
            ]
          },
          "metadata": {
            "tags": []
          },
          "execution_count": 49
        }
      ]
    },
    {
      "cell_type": "markdown",
      "metadata": {
        "id": "QFD1GbKSiSJi",
        "colab_type": "text"
      },
      "source": [
        "8. Among whom the proportion of those who earn a lot(>50K) is more: among married or single men (marital-status feature)? Consider married those who have a marital-status starting with Married (Married-civ-spouse, Married-spouse-absent or Married-AF-spouse), the rest are considered bachelors."
      ]
    },
    {
      "cell_type": "code",
      "metadata": {
        "id": "I9R_0TYBiSJj",
        "colab_type": "code",
        "colab": {},
        "outputId": "c1434332-277c-4427-ea13-a8ccf927221b"
      },
      "source": [
        "df.loc[(df['sex'] == 'Male') &\n",
        "     (df['marital-status'].isin(['Never-married', \n",
        "                                   'Separated', \n",
        "                                   'Divorced',\n",
        "                                   'Widowed'])), 'salary'].value_counts()"
      ],
      "execution_count": 0,
      "outputs": [
        {
          "output_type": "execute_result",
          "data": {
            "text/plain": [
              "<=50K    7552\n",
              ">50K      697\n",
              "Name: salary, dtype: int64"
            ]
          },
          "metadata": {
            "tags": []
          },
          "execution_count": 51
        }
      ]
    },
    {
      "cell_type": "code",
      "metadata": {
        "id": "sfQJ0vaTiSJk",
        "colab_type": "code",
        "colab": {},
        "outputId": "db159778-562f-42d7-ac5a-027b1b8bfbbf"
      },
      "source": [
        "df.loc[(df['marital-status'].isin(['Married-civ-spouse'])), 'salary'].value_counts()"
      ],
      "execution_count": 0,
      "outputs": [
        {
          "output_type": "execute_result",
          "data": {
            "text/plain": [
              "<=50K    8284\n",
              ">50K     6692\n",
              "Name: salary, dtype: int64"
            ]
          },
          "metadata": {
            "tags": []
          },
          "execution_count": 62
        }
      ]
    },
    {
      "cell_type": "code",
      "metadata": {
        "id": "nI3GNa-DiSJo",
        "colab_type": "code",
        "colab": {},
        "outputId": "48eeb8ec-cfdc-4464-a723-ad46eba9dee7"
      },
      "source": [
        "df['marital-status'].value_counts()"
      ],
      "execution_count": 0,
      "outputs": [
        {
          "output_type": "execute_result",
          "data": {
            "text/plain": [
              "Married-civ-spouse       14976\n",
              "Never-married            10683\n",
              "Divorced                  4443\n",
              "Separated                 1025\n",
              "Widowed                    993\n",
              "Married-spouse-absent      418\n",
              "Married-AF-spouse           23\n",
              "Name: marital-status, dtype: int64"
            ]
          },
          "metadata": {
            "tags": []
          },
          "execution_count": 57
        }
      ]
    },
    {
      "cell_type": "markdown",
      "metadata": {
        "id": "UlQLOv-DiSJq",
        "colab_type": "text"
      },
      "source": [
        "9. What is the maximum number of hours a person works per week (hours-per-week feature)? How many people work such a number of hours and what is the percentage of those who earn a lot among them?"
      ]
    },
    {
      "cell_type": "code",
      "metadata": {
        "scrolled": true,
        "id": "KtdnsDHHiSJq",
        "colab_type": "code",
        "colab": {},
        "outputId": "7ba371e5-b311-45c4-828e-748ce908090a"
      },
      "source": [
        "sub_df = df.groupby(['native-country','salary'])\n",
        "sub_df['hours-per-week'].mean()"
      ],
      "execution_count": 0,
      "outputs": [
        {
          "output_type": "execute_result",
          "data": {
            "text/plain": [
              "native-country  salary\n",
              "?               <=50K     40.164760\n",
              "                >50K      45.547945\n",
              "Cambodia        <=50K     41.416667\n",
              "                >50K      40.000000\n",
              "Canada          <=50K     37.914634\n",
              "                            ...    \n",
              "United-States   >50K      45.505369\n",
              "Vietnam         <=50K     37.193548\n",
              "                >50K      39.200000\n",
              "Yugoslavia      <=50K     41.600000\n",
              "                >50K      49.500000\n",
              "Name: hours-per-week, Length: 82, dtype: float64"
            ]
          },
          "metadata": {
            "tags": []
          },
          "execution_count": 77
        }
      ]
    },
    {
      "cell_type": "code",
      "metadata": {
        "id": "zoJfShSqiSJt",
        "colab_type": "code",
        "colab": {},
        "outputId": "90daea66-2bb6-4a42-d051-79327b18f18d"
      },
      "source": [
        "pd.crosstab(df['native-country'], df['salary'], \n",
        "            values=df['hours-per-week'], aggfunc=np.mean).T\n"
      ],
      "execution_count": 0,
      "outputs": [
        {
          "output_type": "execute_result",
          "data": {
            "text/html": [
              "<div>\n",
              "<style scoped>\n",
              "    .dataframe tbody tr th:only-of-type {\n",
              "        vertical-align: middle;\n",
              "    }\n",
              "\n",
              "    .dataframe tbody tr th {\n",
              "        vertical-align: top;\n",
              "    }\n",
              "\n",
              "    .dataframe thead th {\n",
              "        text-align: right;\n",
              "    }\n",
              "</style>\n",
              "<table border=\"1\" class=\"dataframe\">\n",
              "  <thead>\n",
              "    <tr style=\"text-align: right;\">\n",
              "      <th>native-country</th>\n",
              "      <th>?</th>\n",
              "      <th>Cambodia</th>\n",
              "      <th>Canada</th>\n",
              "      <th>China</th>\n",
              "      <th>Columbia</th>\n",
              "      <th>Cuba</th>\n",
              "      <th>Dominican-Republic</th>\n",
              "      <th>Ecuador</th>\n",
              "      <th>El-Salvador</th>\n",
              "      <th>England</th>\n",
              "      <th>France</th>\n",
              "      <th>Germany</th>\n",
              "      <th>Greece</th>\n",
              "      <th>Guatemala</th>\n",
              "      <th>Haiti</th>\n",
              "      <th>Holand-Netherlands</th>\n",
              "      <th>Honduras</th>\n",
              "      <th>Hong</th>\n",
              "      <th>Hungary</th>\n",
              "      <th>India</th>\n",
              "      <th>Iran</th>\n",
              "      <th>Ireland</th>\n",
              "      <th>Italy</th>\n",
              "      <th>Jamaica</th>\n",
              "      <th>Japan</th>\n",
              "      <th>Laos</th>\n",
              "      <th>Mexico</th>\n",
              "      <th>Nicaragua</th>\n",
              "      <th>Outlying-US(Guam-USVI-etc)</th>\n",
              "      <th>Peru</th>\n",
              "      <th>Philippines</th>\n",
              "      <th>Poland</th>\n",
              "      <th>Portugal</th>\n",
              "      <th>Puerto-Rico</th>\n",
              "      <th>Scotland</th>\n",
              "      <th>South</th>\n",
              "      <th>Taiwan</th>\n",
              "      <th>Thailand</th>\n",
              "      <th>Trinadad&amp;Tobago</th>\n",
              "      <th>United-States</th>\n",
              "      <th>Vietnam</th>\n",
              "      <th>Yugoslavia</th>\n",
              "    </tr>\n",
              "    <tr>\n",
              "      <th>salary</th>\n",
              "      <th></th>\n",
              "      <th></th>\n",
              "      <th></th>\n",
              "      <th></th>\n",
              "      <th></th>\n",
              "      <th></th>\n",
              "      <th></th>\n",
              "      <th></th>\n",
              "      <th></th>\n",
              "      <th></th>\n",
              "      <th></th>\n",
              "      <th></th>\n",
              "      <th></th>\n",
              "      <th></th>\n",
              "      <th></th>\n",
              "      <th></th>\n",
              "      <th></th>\n",
              "      <th></th>\n",
              "      <th></th>\n",
              "      <th></th>\n",
              "      <th></th>\n",
              "      <th></th>\n",
              "      <th></th>\n",
              "      <th></th>\n",
              "      <th></th>\n",
              "      <th></th>\n",
              "      <th></th>\n",
              "      <th></th>\n",
              "      <th></th>\n",
              "      <th></th>\n",
              "      <th></th>\n",
              "      <th></th>\n",
              "      <th></th>\n",
              "      <th></th>\n",
              "      <th></th>\n",
              "      <th></th>\n",
              "      <th></th>\n",
              "      <th></th>\n",
              "      <th></th>\n",
              "      <th></th>\n",
              "      <th></th>\n",
              "      <th></th>\n",
              "    </tr>\n",
              "  </thead>\n",
              "  <tbody>\n",
              "    <tr>\n",
              "      <td>&lt;=50K</td>\n",
              "      <td>40.164760</td>\n",
              "      <td>41.416667</td>\n",
              "      <td>37.914634</td>\n",
              "      <td>37.381818</td>\n",
              "      <td>38.684211</td>\n",
              "      <td>37.985714</td>\n",
              "      <td>42.338235</td>\n",
              "      <td>38.041667</td>\n",
              "      <td>36.030928</td>\n",
              "      <td>40.483333</td>\n",
              "      <td>41.058824</td>\n",
              "      <td>39.139785</td>\n",
              "      <td>41.809524</td>\n",
              "      <td>39.360656</td>\n",
              "      <td>36.325</td>\n",
              "      <td>40.0</td>\n",
              "      <td>34.333333</td>\n",
              "      <td>39.142857</td>\n",
              "      <td>31.3</td>\n",
              "      <td>38.233333</td>\n",
              "      <td>41.44</td>\n",
              "      <td>40.947368</td>\n",
              "      <td>39.625</td>\n",
              "      <td>38.239437</td>\n",
              "      <td>41.000000</td>\n",
              "      <td>40.375</td>\n",
              "      <td>40.003279</td>\n",
              "      <td>36.09375</td>\n",
              "      <td>41.857143</td>\n",
              "      <td>35.068966</td>\n",
              "      <td>38.065693</td>\n",
              "      <td>38.166667</td>\n",
              "      <td>41.939394</td>\n",
              "      <td>38.470588</td>\n",
              "      <td>39.444444</td>\n",
              "      <td>40.15625</td>\n",
              "      <td>33.774194</td>\n",
              "      <td>42.866667</td>\n",
              "      <td>37.058824</td>\n",
              "      <td>38.799127</td>\n",
              "      <td>37.193548</td>\n",
              "      <td>41.6</td>\n",
              "    </tr>\n",
              "    <tr>\n",
              "      <td>&gt;50K</td>\n",
              "      <td>45.547945</td>\n",
              "      <td>40.000000</td>\n",
              "      <td>45.641026</td>\n",
              "      <td>38.900000</td>\n",
              "      <td>50.000000</td>\n",
              "      <td>42.440000</td>\n",
              "      <td>47.000000</td>\n",
              "      <td>48.750000</td>\n",
              "      <td>45.000000</td>\n",
              "      <td>44.533333</td>\n",
              "      <td>50.750000</td>\n",
              "      <td>44.977273</td>\n",
              "      <td>50.625000</td>\n",
              "      <td>36.666667</td>\n",
              "      <td>42.750</td>\n",
              "      <td>NaN</td>\n",
              "      <td>60.000000</td>\n",
              "      <td>45.000000</td>\n",
              "      <td>50.0</td>\n",
              "      <td>46.475000</td>\n",
              "      <td>47.50</td>\n",
              "      <td>48.000000</td>\n",
              "      <td>45.400</td>\n",
              "      <td>41.100000</td>\n",
              "      <td>47.958333</td>\n",
              "      <td>40.000</td>\n",
              "      <td>46.575758</td>\n",
              "      <td>37.50000</td>\n",
              "      <td>NaN</td>\n",
              "      <td>40.000000</td>\n",
              "      <td>43.032787</td>\n",
              "      <td>39.000000</td>\n",
              "      <td>41.500000</td>\n",
              "      <td>39.416667</td>\n",
              "      <td>46.666667</td>\n",
              "      <td>51.43750</td>\n",
              "      <td>46.800000</td>\n",
              "      <td>58.333333</td>\n",
              "      <td>40.000000</td>\n",
              "      <td>45.505369</td>\n",
              "      <td>39.200000</td>\n",
              "      <td>49.5</td>\n",
              "    </tr>\n",
              "  </tbody>\n",
              "</table>\n",
              "</div>"
            ],
            "text/plain": [
              "native-country          ?   Cambodia     Canada      China   Columbia  \\\n",
              "salary                                                                  \n",
              "<=50K           40.164760  41.416667  37.914634  37.381818  38.684211   \n",
              ">50K            45.547945  40.000000  45.641026  38.900000  50.000000   \n",
              "\n",
              "native-country       Cuba  Dominican-Republic    Ecuador  El-Salvador  \\\n",
              "salary                                                                  \n",
              "<=50K           37.985714           42.338235  38.041667    36.030928   \n",
              ">50K            42.440000           47.000000  48.750000    45.000000   \n",
              "\n",
              "native-country    England     France    Germany     Greece  Guatemala   Haiti  \\\n",
              "salary                                                                          \n",
              "<=50K           40.483333  41.058824  39.139785  41.809524  39.360656  36.325   \n",
              ">50K            44.533333  50.750000  44.977273  50.625000  36.666667  42.750   \n",
              "\n",
              "native-country  Holand-Netherlands   Honduras       Hong  Hungary      India  \\\n",
              "salary                                                                         \n",
              "<=50K                         40.0  34.333333  39.142857     31.3  38.233333   \n",
              ">50K                           NaN  60.000000  45.000000     50.0  46.475000   \n",
              "\n",
              "native-country   Iran    Ireland   Italy    Jamaica      Japan    Laos  \\\n",
              "salary                                                                   \n",
              "<=50K           41.44  40.947368  39.625  38.239437  41.000000  40.375   \n",
              ">50K            47.50  48.000000  45.400  41.100000  47.958333  40.000   \n",
              "\n",
              "native-country     Mexico  Nicaragua  Outlying-US(Guam-USVI-etc)       Peru  \\\n",
              "salary                                                                        \n",
              "<=50K           40.003279   36.09375                   41.857143  35.068966   \n",
              ">50K            46.575758   37.50000                         NaN  40.000000   \n",
              "\n",
              "native-country  Philippines     Poland   Portugal  Puerto-Rico   Scotland  \\\n",
              "salary                                                                      \n",
              "<=50K             38.065693  38.166667  41.939394    38.470588  39.444444   \n",
              ">50K              43.032787  39.000000  41.500000    39.416667  46.666667   \n",
              "\n",
              "native-country     South     Taiwan   Thailand  Trinadad&Tobago  \\\n",
              "salary                                                            \n",
              "<=50K           40.15625  33.774194  42.866667        37.058824   \n",
              ">50K            51.43750  46.800000  58.333333        40.000000   \n",
              "\n",
              "native-country  United-States    Vietnam  Yugoslavia  \n",
              "salary                                                \n",
              "<=50K               38.799127  37.193548        41.6  \n",
              ">50K                45.505369  39.200000        49.5  "
            ]
          },
          "metadata": {
            "tags": []
          },
          "execution_count": 81
        }
      ]
    },
    {
      "cell_type": "code",
      "metadata": {
        "id": "TItyOgo2iSJu",
        "colab_type": "code",
        "colab": {}
      },
      "source": [
        ""
      ],
      "execution_count": 0,
      "outputs": []
    }
  ]
}